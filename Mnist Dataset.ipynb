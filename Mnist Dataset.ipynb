{
 "cells": [
  {
   "cell_type": "code",
   "execution_count": null,
   "metadata": {
    "collapsed": true,
    "is_executing": true
   },
   "outputs": [],
   "source": [
    "# %tensorflow_version 1.x #used only in colab\n",
    "# import tensorflow as tf\n",
    "# from tensorflow.keras.datasets import mnist as mn"
   ]
  },
  {
   "cell_type": "code",
   "execution_count": null,
   "outputs": [],
   "source": [
    "# ds = mn.load_data(path='mnist.npz') # Applicable only from TensorFlow 2.x"
   ],
   "metadata": {
    "collapsed": false
   }
  },
  {
   "cell_type": "code",
   "execution_count": null,
   "outputs": [],
   "source": [
    "# import tensorflow as tf\n",
    "# from tensorflow.examples.tutorials.mnist import input_data\n",
    "#\n",
    "# mnist = input_data.read_data_sets(\"/tmp/data/\", one_hot=True)"
   ],
   "metadata": {
    "collapsed": false
   }
  },
  {
   "cell_type": "code",
   "execution_count": 1,
   "outputs": [],
   "source": [
    "# import tensorflow as tf\n",
    "# from keras.datasets import mnist\n",
    "\n",
    "# (x_train, y_train), (x_test, y_test) = mnist.load_data()"
   ],
   "metadata": {
    "collapsed": false,
    "ExecuteTime": {
     "end_time": "2023-11-11T18:11:44.861992900Z",
     "start_time": "2023-11-11T18:11:42.182269500Z"
    }
   }
  },
  {
   "cell_type": "code",
   "execution_count": 3,
   "outputs": [
    {
     "name": "stdout",
     "output_type": "stream",
     "text": [
      "60000\n",
      "60000\n",
      "10000\n",
      "10000\n"
     ]
    }
   ],
   "source": [
    "# print(len(x_train))\n",
    "# print(len(y_train))\n",
    "# print(len(x_test))\n",
    "# print(len(y_test))"
   ],
   "metadata": {
    "collapsed": false,
    "ExecuteTime": {
     "end_time": "2023-11-11T18:12:03.961107300Z",
     "start_time": "2023-11-11T18:12:03.930158600Z"
    }
   }
  },
  {
   "cell_type": "code",
   "execution_count": 4,
   "outputs": [],
   "source": [
    "# input_width = 28\n",
    "# input_height = 28\n",
    "# input_channel = 1\n",
    "# input_pixels = 784\n",
    "#\n",
    "# n_conv1 = 32\n",
    "# n_conv2 = 64\n",
    "# stride_conv1 = 1\n",
    "# stride_conv2 = 1\n",
    "# conv1_k = 5\n",
    "# conv2_k = 5\n",
    "# max_pool1_k = 2\n",
    "# max_pool2_k = 2\n",
    "# n_hidden = 1024\n",
    "# n_out = 10"
   ],
   "metadata": {
    "collapsed": false,
    "ExecuteTime": {
     "end_time": "2023-11-11T18:12:05.832738300Z",
     "start_time": "2023-11-11T18:12:05.807900100Z"
    }
   }
  },
  {
   "cell_type": "code",
   "execution_count": 5,
   "outputs": [],
   "source": [
    "# input_size_to_hidden = (input_width//(max_pool1_k*max_pool2_k))*(input_height//(max_pool1_k*max_pool2_k))*n_conv2\n",
    "#\n",
    "# weights = {\n",
    "#     \"wc1\" : tf.Variable(tf.random.normal([conv1_k, conv1_k, input_channel, n_conv1], mean=0.0, stddev=0.05)),\n",
    "#     \"wc2\" : tf.Variable(tf.random.normal([conv2_k, conv2_k, n_conv1, n_conv2], mean=0.0, stddev=0.05)),\n",
    "#     \"wh1\" : tf.Variable(tf.random.normal([input_size_to_hidden, n_hidden], mean=0.0, stddev=0.05)),\n",
    "#     \"wo\" : tf.Variable(tf.random.normal([n_hidden, n_out], mean=0.0, stddev=0.05))\n",
    "# }\n",
    "#\n",
    "# biases = {\n",
    "#     \"bc1\" : tf.Variable(tf.random.normal([n_conv1], mean=0.0, stddev=0.05)),\n",
    "#     \"bc2\" : tf.Variable(tf.random.normal([n_conv2], mean=0.0, stddev=0.05)),\n",
    "#     \"bh1\" : tf.Variable(tf.random.normal([n_hidden], mean=0.0, stddev=0.05)),\n",
    "#     \"bo\" : tf.Variable(tf.random.normal([n_out], mean=0.0, stddev=0.05))\n",
    "# }"
   ],
   "metadata": {
    "collapsed": false,
    "ExecuteTime": {
     "end_time": "2023-11-11T18:12:06.969563400Z",
     "start_time": "2023-11-11T18:12:06.865677Z"
    }
   }
  },
  {
   "cell_type": "code",
   "execution_count": 6,
   "outputs": [],
   "source": [
    "# def conv(x, weights, bias, stride =1):\n",
    "#     out = tf.nn.conv2d(x, weights, padding = \"SAME\", strides = [1, stride, stride, 1])\n",
    "#     out = tf.nn.bias_add(out, bias)\n",
    "#     out = tf.nn.relu(out)\n",
    "#     return out"
   ],
   "metadata": {
    "collapsed": false,
    "ExecuteTime": {
     "end_time": "2023-11-11T18:12:07.973959300Z",
     "start_time": "2023-11-11T18:12:07.940979600Z"
    }
   }
  },
  {
   "cell_type": "code",
   "execution_count": 7,
   "outputs": [],
   "source": [
    "# def max_pooling(x, k=2):\n",
    "#     return tf.nn.max_pool(x, padding = \"SAME\", ksize = [1, k, k, 1], strides = [1, k, k, 1])"
   ],
   "metadata": {
    "collapsed": false,
    "ExecuteTime": {
     "end_time": "2023-11-11T18:12:08.570970800Z",
     "start_time": "2023-11-11T18:12:08.552824300Z"
    }
   }
  },
  {
   "cell_type": "code",
   "execution_count": 8,
   "outputs": [],
   "source": [
    "# def cnn(x, weights, biases):\n",
    "#     x = tf.reshape(x, shape = [-1, input_height, input_width, input_channel])\n",
    "#     Conv1 = conv(x, weights['wc1'],biases['bc1'])\n",
    "#     Conv1_pool = max_pooling(Conv1, max_pool1_k)\n",
    "#\n",
    "#     Conv2 = conv(Conv1_pool, weights['wc2'],biases['bc2'])\n",
    "#     Conv2_pool = max_pooling(Conv2, max_pool2_k)\n",
    "#\n",
    "#     hidden_input = tf.reshape(Conv2_pool, shape = [-1, input_size_to_hidden])\n",
    "#     hidden_out_before_activation = tf.add(tf.matmul(hidden_input, weights['wh1']), biases['bh1'])\n",
    "#     hidden_output = tf.nn.relu(hidden_out_before_activation)\n",
    "#     output = tf.add(tf.matmul(hidden_output, weights['wo']), biases['bo'])\n",
    "#     return output"
   ],
   "metadata": {
    "collapsed": false,
    "ExecuteTime": {
     "end_time": "2023-11-11T18:13:07.094304100Z",
     "start_time": "2023-11-11T18:13:07.067990900Z"
    }
   }
  },
  {
   "cell_type": "code",
   "execution_count": 12,
   "outputs": [
    {
     "ename": "InvalidArgumentError",
     "evalue": "Value for attr 'T' of uint8 is not in the list of allowed values: half, bfloat16, float, double, int32\n\t; NodeDef: {{node Conv2D}}; Op<name=Conv2D; signature=input:T, filter:T -> output:T; attr=T:type,allowed=[DT_HALF, DT_BFLOAT16, DT_FLOAT, DT_DOUBLE, DT_INT32]; attr=strides:list(int); attr=use_cudnn_on_gpu:bool,default=true; attr=padding:string,allowed=[\"SAME\", \"VALID\", \"EXPLICIT\"]; attr=explicit_paddings:list(int),default=[]; attr=data_format:string,default=\"NHWC\",allowed=[\"NHWC\", \"NCHW\"]; attr=dilations:list(int),default=[1, 1, 1, 1]> [Op:Conv2D] name: ",
     "output_type": "error",
     "traceback": [
      "\u001B[1;31m---------------------------------------------------------------------------\u001B[0m",
      "\u001B[1;31mInvalidArgumentError\u001B[0m                      Traceback (most recent call last)",
      "Cell \u001B[1;32mIn[12], line 6\u001B[0m\n\u001B[0;32m      1\u001B[0m \u001B[38;5;66;03m# x = tf.Variable(tf.zeros(shape=[None, input_pixels], dtype=tf.float32))\u001B[39;00m\n\u001B[0;32m      2\u001B[0m \u001B[38;5;66;03m# y = tf.Variable(tf.zeros(shape=[None, n_out], dtype=tf.int32))\u001B[39;00m\n\u001B[0;32m      3\u001B[0m \u001B[38;5;66;03m# x = tf.placeholder(\"float\", [None, input_pixels])\u001B[39;00m\n\u001B[0;32m      4\u001B[0m \u001B[38;5;66;03m# y = tf.placeholder(tf.int32, [None, n_out])\u001B[39;00m\n\u001B[1;32m----> 6\u001B[0m pred \u001B[38;5;241m=\u001B[39m \u001B[43mcnn\u001B[49m\u001B[43m(\u001B[49m\u001B[43mx_train\u001B[49m\u001B[43m,\u001B[49m\u001B[43m \u001B[49m\u001B[43mweights\u001B[49m\u001B[43m,\u001B[49m\u001B[43m \u001B[49m\u001B[43mbiases\u001B[49m\u001B[43m)\u001B[49m\n\u001B[0;32m      8\u001B[0m cost \u001B[38;5;241m=\u001B[39m tf\u001B[38;5;241m.\u001B[39mreduce_mean(tf\u001B[38;5;241m.\u001B[39mnn\u001B[38;5;241m.\u001B[39msoftmax_cross_entropy_with_logits(logits\u001B[38;5;241m=\u001B[39mpred, labels \u001B[38;5;241m=\u001B[39m y))\n\u001B[0;32m      9\u001B[0m \u001B[38;5;66;03m# optimizer = tf.train.AdamOptimizer(learning_rate=0.01)\u001B[39;00m\n\u001B[0;32m     10\u001B[0m \u001B[38;5;66;03m# optimizer = optimizer.minimize(cost)\u001B[39;00m\n",
      "Cell \u001B[1;32mIn[8], line 3\u001B[0m, in \u001B[0;36mcnn\u001B[1;34m(x, weights, biases)\u001B[0m\n\u001B[0;32m      1\u001B[0m \u001B[38;5;28;01mdef\u001B[39;00m \u001B[38;5;21mcnn\u001B[39m(x, weights, biases):\n\u001B[0;32m      2\u001B[0m     x \u001B[38;5;241m=\u001B[39m tf\u001B[38;5;241m.\u001B[39mreshape(x, shape \u001B[38;5;241m=\u001B[39m [\u001B[38;5;241m-\u001B[39m\u001B[38;5;241m1\u001B[39m, input_height, input_width, input_channel])\n\u001B[1;32m----> 3\u001B[0m     Conv1 \u001B[38;5;241m=\u001B[39m \u001B[43mconv\u001B[49m\u001B[43m(\u001B[49m\u001B[43mx\u001B[49m\u001B[43m,\u001B[49m\u001B[43m \u001B[49m\u001B[43mweights\u001B[49m\u001B[43m[\u001B[49m\u001B[38;5;124;43m'\u001B[39;49m\u001B[38;5;124;43mwc1\u001B[39;49m\u001B[38;5;124;43m'\u001B[39;49m\u001B[43m]\u001B[49m\u001B[43m,\u001B[49m\u001B[43mbiases\u001B[49m\u001B[43m[\u001B[49m\u001B[38;5;124;43m'\u001B[39;49m\u001B[38;5;124;43mbc1\u001B[39;49m\u001B[38;5;124;43m'\u001B[39;49m\u001B[43m]\u001B[49m\u001B[43m)\u001B[49m\n\u001B[0;32m      4\u001B[0m     Conv1_pool \u001B[38;5;241m=\u001B[39m max_pooling(Conv1, max_pool1_k)\n\u001B[0;32m      6\u001B[0m     Conv2 \u001B[38;5;241m=\u001B[39m conv(Conv1_pool, weights[\u001B[38;5;124m'\u001B[39m\u001B[38;5;124mwc2\u001B[39m\u001B[38;5;124m'\u001B[39m],biases[\u001B[38;5;124m'\u001B[39m\u001B[38;5;124mbc2\u001B[39m\u001B[38;5;124m'\u001B[39m])\n",
      "Cell \u001B[1;32mIn[6], line 2\u001B[0m, in \u001B[0;36mconv\u001B[1;34m(x, weights, bias, stride)\u001B[0m\n\u001B[0;32m      1\u001B[0m \u001B[38;5;28;01mdef\u001B[39;00m \u001B[38;5;21mconv\u001B[39m(x, weights, bias, stride \u001B[38;5;241m=\u001B[39m\u001B[38;5;241m1\u001B[39m):\n\u001B[1;32m----> 2\u001B[0m     out \u001B[38;5;241m=\u001B[39m \u001B[43mtf\u001B[49m\u001B[38;5;241;43m.\u001B[39;49m\u001B[43mnn\u001B[49m\u001B[38;5;241;43m.\u001B[39;49m\u001B[43mconv2d\u001B[49m\u001B[43m(\u001B[49m\u001B[43mx\u001B[49m\u001B[43m,\u001B[49m\u001B[43m \u001B[49m\u001B[43mweights\u001B[49m\u001B[43m,\u001B[49m\u001B[43m \u001B[49m\u001B[43mpadding\u001B[49m\u001B[43m \u001B[49m\u001B[38;5;241;43m=\u001B[39;49m\u001B[43m \u001B[49m\u001B[38;5;124;43m\"\u001B[39;49m\u001B[38;5;124;43mSAME\u001B[39;49m\u001B[38;5;124;43m\"\u001B[39;49m\u001B[43m,\u001B[49m\u001B[43m \u001B[49m\u001B[43mstrides\u001B[49m\u001B[43m \u001B[49m\u001B[38;5;241;43m=\u001B[39;49m\u001B[43m \u001B[49m\u001B[43m[\u001B[49m\u001B[38;5;241;43m1\u001B[39;49m\u001B[43m,\u001B[49m\u001B[43m \u001B[49m\u001B[43mstride\u001B[49m\u001B[43m,\u001B[49m\u001B[43m \u001B[49m\u001B[43mstride\u001B[49m\u001B[43m,\u001B[49m\u001B[43m \u001B[49m\u001B[38;5;241;43m1\u001B[39;49m\u001B[43m]\u001B[49m\u001B[43m)\u001B[49m\n\u001B[0;32m      3\u001B[0m     out \u001B[38;5;241m=\u001B[39m tf\u001B[38;5;241m.\u001B[39mnn\u001B[38;5;241m.\u001B[39mbias_add(out, bias)\n\u001B[0;32m      4\u001B[0m     out \u001B[38;5;241m=\u001B[39m tf\u001B[38;5;241m.\u001B[39mnn\u001B[38;5;241m.\u001B[39mrelu(out)\n",
      "File \u001B[1;32mE:\\All Python Virtual Environments\\DLwithPython(11)TF(2.14)\\Lib\\site-packages\\tensorflow\\python\\util\\traceback_utils.py:153\u001B[0m, in \u001B[0;36mfilter_traceback.<locals>.error_handler\u001B[1;34m(*args, **kwargs)\u001B[0m\n\u001B[0;32m    151\u001B[0m \u001B[38;5;28;01mexcept\u001B[39;00m \u001B[38;5;167;01mException\u001B[39;00m \u001B[38;5;28;01mas\u001B[39;00m e:\n\u001B[0;32m    152\u001B[0m   filtered_tb \u001B[38;5;241m=\u001B[39m _process_traceback_frames(e\u001B[38;5;241m.\u001B[39m__traceback__)\n\u001B[1;32m--> 153\u001B[0m   \u001B[38;5;28;01mraise\u001B[39;00m e\u001B[38;5;241m.\u001B[39mwith_traceback(filtered_tb) \u001B[38;5;28;01mfrom\u001B[39;00m \u001B[38;5;28;01mNone\u001B[39;00m\n\u001B[0;32m    154\u001B[0m \u001B[38;5;28;01mfinally\u001B[39;00m:\n\u001B[0;32m    155\u001B[0m   \u001B[38;5;28;01mdel\u001B[39;00m filtered_tb\n",
      "File \u001B[1;32mE:\\All Python Virtual Environments\\DLwithPython(11)TF(2.14)\\Lib\\site-packages\\tensorflow\\python\\framework\\ops.py:5888\u001B[0m, in \u001B[0;36mraise_from_not_ok_status\u001B[1;34m(e, name)\u001B[0m\n\u001B[0;32m   5886\u001B[0m \u001B[38;5;28;01mdef\u001B[39;00m \u001B[38;5;21mraise_from_not_ok_status\u001B[39m(e, name) \u001B[38;5;241m-\u001B[39m\u001B[38;5;241m>\u001B[39m NoReturn:\n\u001B[0;32m   5887\u001B[0m   e\u001B[38;5;241m.\u001B[39mmessage \u001B[38;5;241m+\u001B[39m\u001B[38;5;241m=\u001B[39m (\u001B[38;5;124m\"\u001B[39m\u001B[38;5;124m name: \u001B[39m\u001B[38;5;124m\"\u001B[39m \u001B[38;5;241m+\u001B[39m \u001B[38;5;28mstr\u001B[39m(name \u001B[38;5;28;01mif\u001B[39;00m name \u001B[38;5;129;01mis\u001B[39;00m \u001B[38;5;129;01mnot\u001B[39;00m \u001B[38;5;28;01mNone\u001B[39;00m \u001B[38;5;28;01melse\u001B[39;00m \u001B[38;5;124m\"\u001B[39m\u001B[38;5;124m\"\u001B[39m))\n\u001B[1;32m-> 5888\u001B[0m   \u001B[38;5;28;01mraise\u001B[39;00m core\u001B[38;5;241m.\u001B[39m_status_to_exception(e) \u001B[38;5;28;01mfrom\u001B[39;00m \u001B[38;5;28;01mNone\u001B[39;00m\n",
      "\u001B[1;31mInvalidArgumentError\u001B[0m: Value for attr 'T' of uint8 is not in the list of allowed values: half, bfloat16, float, double, int32\n\t; NodeDef: {{node Conv2D}}; Op<name=Conv2D; signature=input:T, filter:T -> output:T; attr=T:type,allowed=[DT_HALF, DT_BFLOAT16, DT_FLOAT, DT_DOUBLE, DT_INT32]; attr=strides:list(int); attr=use_cudnn_on_gpu:bool,default=true; attr=padding:string,allowed=[\"SAME\", \"VALID\", \"EXPLICIT\"]; attr=explicit_paddings:list(int),default=[]; attr=data_format:string,default=\"NHWC\",allowed=[\"NHWC\", \"NCHW\"]; attr=dilations:list(int),default=[1, 1, 1, 1]> [Op:Conv2D] name: "
     ]
    }
   ],
   "source": [
    "# # x = tf.Variable(tf.zeros(shape=[None, input_pixels], dtype=tf.float32))\n",
    "# # y = tf.Variable(tf.zeros(shape=[None, n_out], dtype=tf.int32))\n",
    "# # x = tf.placeholder(\"float\", [None, input_pixels])\n",
    "# # y = tf.placeholder(tf.int32, [None, n_out])\n",
    "#\n",
    "# pred = cnn(x_train, weights, biases)\n",
    "#\n",
    "# cost = tf.reduce_mean(tf.nn.softmax_cross_entropy_with_logits(logits=pred, labels = y))\n",
    "# # optimizer = tf.train.AdamOptimizer(learning_rate=0.01)\n",
    "# # optimizer = optimizer.minimize(cost)\n",
    "#\n",
    "# optimizer = tf.optimizers.Adam(learning_rate = 0.01)"
   ],
   "metadata": {
    "collapsed": false,
    "ExecuteTime": {
     "end_time": "2023-11-11T18:21:25.791762400Z",
     "start_time": "2023-11-11T18:21:25.564567200Z"
    }
   }
  },
  {
   "cell_type": "code",
   "execution_count": null,
   "outputs": [],
   "source": [
    "# sess = tf.Session()\n",
    "# sess.run(tf.global_variables_initializer())"
   ],
   "metadata": {
    "collapsed": false
   }
  },
  {
   "cell_type": "code",
   "execution_count": null,
   "outputs": [],
   "source": [
    "# # (x_train, y_train), (x_test, y_test)\n",
    "# batch_size = 100\n",
    "# num_batches = 0\n",
    "# for i in range(25):\n",
    "#     total_cost = 0\n",
    "#     for j in range(num_batches):\n",
    "#         batch_x = x_train[num_batches:num_batches+batch_size]\n",
    "#         batch_y = y_train[num_batches:num_batches+batch_size]\n",
    "#         c, _ = sess.run([cost, optimizer],feed_dict = {x:batch_x, y:batch_y})\n",
    "#         total_cost += c\n",
    "#     print(total_cost)\n",
    "#     num_batches += batch_size"
   ],
   "metadata": {
    "collapsed": false
   }
  },
  {
   "cell_type": "code",
   "execution_count": null,
   "outputs": [],
   "source": [
    "# predictions = tf.argmax(pred, 1)\n",
    "# correct_labels = tf.argmax(y, 1)\n",
    "# correct_predictions = tf.equal(predictions, correct_labels)\n",
    "# predictions, correct_preds = sess.run([predictions, correct_predictions], feed_dict = {x:x_test, y:y_test})\n",
    "# correct_preds.sum()"
   ],
   "metadata": {
    "collapsed": false
   }
  },
  {
   "cell_type": "code",
   "execution_count": 2,
   "outputs": [],
   "source": [
    "import numpy as np\n",
    "import tensorflow as tf\n",
    "from keras.utils import to_categorical\n",
    "from keras.datasets import mnist\n",
    "from keras.callbacks import EarlyStopping\n",
    "from keras.layers import InputLayer, Conv2D, MaxPool2D, Dropout, Dense, Flatten, Normalization\n",
    "from keras import regularizers"
   ],
   "metadata": {
    "collapsed": false,
    "ExecuteTime": {
     "end_time": "2023-11-27T17:04:01.592251300Z",
     "start_time": "2023-11-27T17:03:58.609670400Z"
    }
   }
  },
  {
   "cell_type": "code",
   "execution_count": 3,
   "outputs": [
    {
     "name": "stdout",
     "output_type": "stream",
     "text": [
      "[0 1 2 3 4 5 6 7 8 9]\n"
     ]
    }
   ],
   "source": [
    "(x_train, y_train), (x_test, y_test) = mnist.load_data()\n",
    "print(np.unique(y_train))\n",
    "x_train = x_train.astype('float32') / 255.0\n",
    "x_test = x_test.astype('float32') / 255.0\n",
    "y_train = to_categorical(y_train, num_classes=10)\n",
    "y_test = to_categorical(y_test, num_classes=10)"
   ],
   "metadata": {
    "collapsed": false,
    "ExecuteTime": {
     "end_time": "2023-11-27T17:04:02.845778600Z",
     "start_time": "2023-11-27T17:04:02.346502300Z"
    }
   }
  },
  {
   "cell_type": "code",
   "execution_count": 4,
   "outputs": [
    {
     "name": "stdout",
     "output_type": "stream",
     "text": [
      "Model: \"sequential\"\n",
      "_________________________________________________________________\n",
      " Layer (type)                Output Shape              Param #   \n",
      "=================================================================\n",
      " normalization (Normalizati  (None, 28, 28, 1)         0         \n",
      " on)                                                             \n",
      "                                                                 \n",
      " conv2d (Conv2D)             (None, 28, 28, 16)        80        \n",
      "                                                                 \n",
      " max_pooling2d (MaxPooling2  (None, 28, 28, 16)        0         \n",
      " D)                                                              \n",
      "                                                                 \n",
      " conv2d_1 (Conv2D)           (None, 28, 28, 32)        2080      \n",
      "                                                                 \n",
      " max_pooling2d_1 (MaxPoolin  (None, 28, 28, 32)        0         \n",
      " g2D)                                                            \n",
      "                                                                 \n",
      " conv2d_2 (Conv2D)           (None, 28, 28, 64)        8256      \n",
      "                                                                 \n",
      " max_pooling2d_2 (MaxPoolin  (None, 28, 28, 64)        0         \n",
      " g2D)                                                            \n",
      "                                                                 \n",
      " flatten (Flatten)           (None, 50176)             0         \n",
      "                                                                 \n",
      " dropout (Dropout)           (None, 50176)             0         \n",
      "                                                                 \n",
      " dense (Dense)               (None, 64)                3211328   \n",
      "                                                                 \n",
      " dense_1 (Dense)             (None, 32)                2080      \n",
      "                                                                 \n",
      " dense_2 (Dense)             (None, 10)                330       \n",
      "                                                                 \n",
      "=================================================================\n",
      "Total params: 3224154 (12.30 MB)\n",
      "Trainable params: 3224154 (12.30 MB)\n",
      "Non-trainable params: 0 (0.00 Byte)\n",
      "_________________________________________________________________\n"
     ]
    }
   ],
   "source": [
    "model = tf.keras.models.Sequential()\n",
    "model.add(InputLayer(input_shape=(28,28,1)))\n",
    "model.add(Normalization(axis=-1, mean=0, variance=1))\n",
    "model.add(Conv2D(16, (2,2), activation='relu', padding=\"SAME\", kernel_regularizer=regularizers.l2(0.01)))\n",
    "model.add(MaxPool2D(1, 1))\n",
    "model.add(Conv2D(32, (2,2), activation='relu', padding=\"SAME\", kernel_regularizer=regularizers.l2(0.01)))\n",
    "model.add(MaxPool2D(1, 1))\n",
    "model.add(Conv2D(64, (2,2), activation='relu', padding=\"SAME\", kernel_regularizer=regularizers.l2(0.01)))\n",
    "model.add(MaxPool2D(1, 1))\n",
    "model.add(Flatten())\n",
    "model.add(Dropout(0.5))\n",
    "model.add(Dense(64, activation='relu', kernel_regularizer=regularizers.l2(0.01)))\n",
    "model.add(Dense(32, activation='relu', kernel_regularizer=regularizers.l2(0.01)))\n",
    "model.add(Dense(10, activation='softmax'))\n",
    "model.summary()"
   ],
   "metadata": {
    "collapsed": false,
    "ExecuteTime": {
     "end_time": "2023-11-27T17:04:03.794784900Z",
     "start_time": "2023-11-27T17:04:03.468893200Z"
    }
   }
  },
  {
   "cell_type": "code",
   "execution_count": 5,
   "outputs": [],
   "source": [
    "model.compile( optimizer=tf.keras.optimizers.Adam(learning_rate=0.0001), loss = \"categorical_crossentropy\", metrics=['accuracy'])"
   ],
   "metadata": {
    "collapsed": false,
    "ExecuteTime": {
     "end_time": "2023-11-27T17:04:04.567054900Z",
     "start_time": "2023-11-27T17:04:04.432216500Z"
    }
   }
  },
  {
   "cell_type": "code",
   "execution_count": 6,
   "outputs": [],
   "source": [
    "es = EarlyStopping(\n",
    "                    monitor='loss',\n",
    "                    patience=2,\n",
    "                    min_delta=0.01\n",
    "                   )"
   ],
   "metadata": {
    "collapsed": false,
    "ExecuteTime": {
     "end_time": "2023-11-27T17:04:05.335514600Z",
     "start_time": "2023-11-27T17:04:05.310504100Z"
    }
   }
  },
  {
   "cell_type": "code",
   "execution_count": 22,
   "outputs": [
    {
     "name": "stdout",
     "output_type": "stream",
     "text": [
      "Epoch 1/30\n",
      "600/600 [==============================] - 105s 173ms/step - loss: 1.6650 - accuracy: 0.8574\n",
      "Epoch 2/30\n",
      "600/600 [==============================] - 97s 162ms/step - loss: 0.9502 - accuracy: 0.9277\n",
      "Epoch 3/30\n",
      "600/600 [==============================] - 106s 177ms/step - loss: 0.7395 - accuracy: 0.9395\n",
      "Epoch 4/30\n",
      "600/600 [==============================] - 106s 177ms/step - loss: 0.6288 - accuracy: 0.9473\n",
      "Epoch 5/30\n",
      "600/600 [==============================] - 106s 176ms/step - loss: 0.5689 - accuracy: 0.9513\n",
      "Epoch 6/30\n",
      "600/600 [==============================] - 106s 177ms/step - loss: 0.5249 - accuracy: 0.9544\n",
      "Epoch 7/30\n",
      "600/600 [==============================] - 106s 176ms/step - loss: 0.4960 - accuracy: 0.9548\n",
      "Epoch 8/30\n",
      "600/600 [==============================] - 106s 176ms/step - loss: 0.4670 - accuracy: 0.9586\n",
      "Epoch 9/30\n",
      "600/600 [==============================] - 104s 174ms/step - loss: 0.4511 - accuracy: 0.9585\n",
      "Epoch 10/30\n",
      "600/600 [==============================] - 110s 183ms/step - loss: 0.4286 - accuracy: 0.9609\n",
      "Epoch 11/30\n",
      "600/600 [==============================] - 108s 181ms/step - loss: 0.4149 - accuracy: 0.9618\n",
      "Epoch 12/30\n",
      "600/600 [==============================] - 105s 176ms/step - loss: 0.4022 - accuracy: 0.9624\n",
      "Epoch 13/30\n",
      "600/600 [==============================] - 104s 174ms/step - loss: 0.3885 - accuracy: 0.9640\n",
      "Epoch 14/30\n",
      "600/600 [==============================] - 105s 174ms/step - loss: 0.3761 - accuracy: 0.9652\n",
      "Epoch 15/30\n",
      "600/600 [==============================] - 104s 173ms/step - loss: 0.3678 - accuracy: 0.9657\n",
      "Epoch 16/30\n",
      "600/600 [==============================] - 105s 174ms/step - loss: 0.3581 - accuracy: 0.9664\n",
      "Epoch 17/30\n",
      "600/600 [==============================] - 112s 186ms/step - loss: 0.3498 - accuracy: 0.9665\n",
      "Epoch 18/30\n",
      "600/600 [==============================] - 130s 216ms/step - loss: 0.3450 - accuracy: 0.9667\n",
      "Epoch 19/30\n",
      "600/600 [==============================] - 121s 202ms/step - loss: 0.3371 - accuracy: 0.9676\n",
      "Epoch 20/30\n",
      "600/600 [==============================] - 117s 195ms/step - loss: 0.3306 - accuracy: 0.9688\n",
      "Epoch 21/30\n",
      "600/600 [==============================] - 117s 196ms/step - loss: 0.3247 - accuracy: 0.9682\n",
      "Epoch 22/30\n",
      "600/600 [==============================] - 115s 191ms/step - loss: 0.3197 - accuracy: 0.9688\n",
      "Epoch 23/30\n",
      "600/600 [==============================] - 110s 184ms/step - loss: 0.3168 - accuracy: 0.9684\n",
      "Epoch 24/30\n",
      "600/600 [==============================] - 105s 174ms/step - loss: 0.3114 - accuracy: 0.9694\n"
     ]
    },
    {
     "data": {
      "text/plain": "<keras.src.callbacks.History at 0x13aa11da990>"
     },
     "execution_count": 22,
     "metadata": {},
     "output_type": "execute_result"
    }
   ],
   "source": [
    "model.fit(x_train,y_train, epochs = 30, steps_per_epoch = 600,  verbose = 1, validation_steps = 3, callbacks = [es])"
   ],
   "metadata": {
    "collapsed": false,
    "ExecuteTime": {
     "end_time": "2023-11-26T21:25:09.355470200Z",
     "start_time": "2023-11-26T20:41:39.338534900Z"
    }
   }
  },
  {
   "cell_type": "code",
   "execution_count": 23,
   "outputs": [
    {
     "name": "stdout",
     "output_type": "stream",
     "text": [
      "313/313 [==============================] - 4s 13ms/step - loss: 0.2924 - accuracy: 0.9732\n"
     ]
    },
    {
     "data": {
      "text/plain": "[0.29236820340156555, 0.9732000231742859]"
     },
     "execution_count": 23,
     "metadata": {},
     "output_type": "execute_result"
    }
   ],
   "source": [
    "model.evaluate(x_test, y_test)"
   ],
   "metadata": {
    "collapsed": false,
    "ExecuteTime": {
     "end_time": "2023-11-26T21:31:31.021915300Z",
     "start_time": "2023-11-26T21:31:26.775204700Z"
    }
   }
  },
  {
   "cell_type": "code",
   "execution_count": 15,
   "outputs": [
    {
     "name": "stdout",
     "output_type": "stream",
     "text": [
      "313/313 [==============================] - 4s 14ms/step\n"
     ]
    }
   ],
   "source": [
    "predictions = model.predict(x_test)"
   ],
   "metadata": {
    "collapsed": false,
    "ExecuteTime": {
     "end_time": "2023-11-26T15:26:44.965716700Z",
     "start_time": "2023-11-26T15:26:40.350710300Z"
    }
   }
  },
  {
   "cell_type": "code",
   "execution_count": 38,
   "outputs": [],
   "source": [
    "prediction = np.argmax(predictions, axis=1)"
   ],
   "metadata": {
    "collapsed": false,
    "ExecuteTime": {
     "end_time": "2023-11-25T22:19:24.742717300Z",
     "start_time": "2023-11-25T22:19:24.704167800Z"
    }
   }
  },
  {
   "cell_type": "code",
   "execution_count": 42,
   "outputs": [
    {
     "name": "stdout",
     "output_type": "stream",
     "text": [
      "[7 2 1 ... 4 5 6]\n"
     ]
    }
   ],
   "source": [
    "print(prediction)"
   ],
   "metadata": {
    "collapsed": false,
    "ExecuteTime": {
     "end_time": "2023-11-25T22:22:17.088643900Z",
     "start_time": "2023-11-25T22:22:17.073093900Z"
    }
   }
  },
  {
   "cell_type": "code",
   "execution_count": 7,
   "outputs": [
    {
     "name": "stdout",
     "output_type": "stream",
     "text": [
      "Epoch 1/30\n",
      "600/600 [==============================] - 19s 30ms/step - loss: 0.5705 - accuracy: 0.8648\n",
      "Epoch 2/30\n",
      "600/600 [==============================] - 17s 28ms/step - loss: 0.2178 - accuracy: 0.9378\n",
      "Epoch 3/30\n",
      "600/600 [==============================] - 17s 28ms/step - loss: 0.1596 - accuracy: 0.9550\n",
      "Epoch 4/30\n",
      "600/600 [==============================] - 16s 27ms/step - loss: 0.1248 - accuracy: 0.9649\n",
      "Epoch 5/30\n",
      "600/600 [==============================] - 16s 27ms/step - loss: 0.1030 - accuracy: 0.9712\n",
      "Epoch 6/30\n",
      "600/600 [==============================] - 16s 26ms/step - loss: 0.0879 - accuracy: 0.9756\n",
      "Epoch 7/30\n",
      "600/600 [==============================] - 16s 27ms/step - loss: 0.0771 - accuracy: 0.9787\n",
      "Epoch 8/30\n",
      "600/600 [==============================] - 14s 24ms/step - loss: 0.0689 - accuracy: 0.9804\n",
      "Epoch 9/30\n",
      "600/600 [==============================] - 15s 24ms/step - loss: 0.0621 - accuracy: 0.9830\n",
      "Epoch 10/30\n",
      "600/600 [==============================] - 15s 25ms/step - loss: 0.0570 - accuracy: 0.9845\n",
      "Epoch 11/30\n",
      "600/600 [==============================] - 15s 25ms/step - loss: 0.0519 - accuracy: 0.9856\n",
      "Epoch 12/30\n",
      "600/600 [==============================] - 15s 24ms/step - loss: 0.0480 - accuracy: 0.9865\n",
      "Epoch 13/30\n",
      "600/600 [==============================] - 15s 24ms/step - loss: 0.0443 - accuracy: 0.9876\n"
     ]
    },
    {
     "data": {
      "text/plain": "<keras.src.callbacks.History at 0x26ec5429210>"
     },
     "execution_count": 7,
     "metadata": {},
     "output_type": "execute_result"
    }
   ],
   "source": [
    "model = tf.keras.models.Sequential([\n",
    "    tf.keras.layers.Conv2D(32, (3,3), activation='relu', input_shape=(28,28,1)),\n",
    "    tf.keras.layers.MaxPooling2D(2,2),\n",
    "    tf.keras.layers.Flatten(),\n",
    "    tf.keras.layers.Dense(128, activation='relu'),\n",
    "    tf.keras.layers.Dense(10, activation='softmax')\n",
    "])\n",
    "\n",
    "model.compile( optimizer=tf.keras.optimizers.Adam(learning_rate=0.0001), loss = \"categorical_crossentropy\", metrics=['accuracy'])\n",
    "\n",
    "es = EarlyStopping(\n",
    "                    monitor='loss',\n",
    "                    patience=2,\n",
    "                    min_delta=0.01\n",
    "                   )\n",
    "\n",
    "model.fit(x_train,y_train, epochs = 30, steps_per_epoch = 600,  verbose = 1, validation_steps = 3, callbacks = [es])"
   ],
   "metadata": {
    "collapsed": false,
    "ExecuteTime": {
     "end_time": "2023-11-27T17:08:08.748407800Z",
     "start_time": "2023-11-27T17:04:43.651646Z"
    }
   }
  },
  {
   "cell_type": "code",
   "execution_count": 8,
   "outputs": [
    {
     "name": "stdout",
     "output_type": "stream",
     "text": [
      "Model: \"sequential_1\"\n",
      "_________________________________________________________________\n",
      " Layer (type)                Output Shape              Param #   \n",
      "=================================================================\n",
      " conv2d_3 (Conv2D)           (None, 28, 28, 32)        320       \n",
      "                                                                 \n",
      " max_pooling2d_3 (MaxPoolin  (None, 14, 14, 32)        0         \n",
      " g2D)                                                            \n",
      "                                                                 \n",
      " flatten_1 (Flatten)         (None, 6272)              0         \n",
      "                                                                 \n",
      " dense_3 (Dense)             (None, 128)               802944    \n",
      "                                                                 \n",
      " dense_4 (Dense)             (None, 10)                1290      \n",
      "                                                                 \n",
      "=================================================================\n",
      "Total params: 804554 (3.07 MB)\n",
      "Trainable params: 804554 (3.07 MB)\n",
      "Non-trainable params: 0 (0.00 Byte)\n",
      "_________________________________________________________________\n",
      "313/313 [==============================] - 1s 4ms/step - loss: 0.0526 - accuracy: 0.9830\n"
     ]
    },
    {
     "data": {
      "text/plain": "[0.05262802168726921, 0.9829999804496765]"
     },
     "execution_count": 8,
     "metadata": {},
     "output_type": "execute_result"
    }
   ],
   "source": [
    "model.evaluate(x_test, y_test)"
   ],
   "metadata": {
    "collapsed": false,
    "ExecuteTime": {
     "end_time": "2023-11-27T17:08:14.490895800Z",
     "start_time": "2023-11-27T17:08:13.009821Z"
    }
   }
  },
  {
   "cell_type": "code",
   "execution_count": 9,
   "outputs": [
    {
     "name": "stdout",
     "output_type": "stream",
     "text": [
      "Model: \"sequential_2\"\n",
      "_________________________________________________________________\n",
      " Layer (type)                Output Shape              Param #   \n",
      "=================================================================\n",
      " conv2d_4 (Conv2D)           (None, 24, 24, 6)         156       \n",
      "                                                                 \n",
      " max_pooling2d_4 (MaxPoolin  (None, 12, 12, 6)         0         \n",
      " g2D)                                                            \n",
      "                                                                 \n",
      " conv2d_5 (Conv2D)           (None, 8, 8, 16)          2416      \n",
      "                                                                 \n",
      " max_pooling2d_5 (MaxPoolin  (None, 4, 4, 16)          0         \n",
      " g2D)                                                            \n",
      "                                                                 \n",
      " flatten_2 (Flatten)         (None, 256)               0         \n",
      "                                                                 \n",
      " dense_5 (Dense)             (None, 120)               30840     \n",
      "                                                                 \n",
      " dense_6 (Dense)             (None, 84)                10164     \n",
      "                                                                 \n",
      " dense_7 (Dense)             (None, 10)                850       \n",
      "                                                                 \n",
      "=================================================================\n",
      "Total params: 44426 (173.54 KB)\n",
      "Trainable params: 44426 (173.54 KB)\n",
      "Non-trainable params: 0 (0.00 Byte)\n",
      "_________________________________________________________________\n",
      "Epoch 1/30\n",
      "600/600 [==============================] - 9s 13ms/step - loss: 0.9723 - accuracy: 0.7427\n",
      "Epoch 2/30\n",
      "600/600 [==============================] - 7s 12ms/step - loss: 0.2934 - accuracy: 0.9123\n",
      "Epoch 3/30\n",
      "600/600 [==============================] - 8s 13ms/step - loss: 0.2044 - accuracy: 0.9386\n",
      "Epoch 4/30\n",
      "600/600 [==============================] - 7s 12ms/step - loss: 0.1568 - accuracy: 0.9531\n",
      "Epoch 5/30\n",
      "600/600 [==============================] - 7s 12ms/step - loss: 0.1277 - accuracy: 0.9619\n",
      "Epoch 6/30\n",
      "600/600 [==============================] - 7s 12ms/step - loss: 0.1102 - accuracy: 0.9667\n",
      "Epoch 7/30\n",
      "600/600 [==============================] - 7s 12ms/step - loss: 0.0971 - accuracy: 0.9705\n",
      "Epoch 8/30\n",
      "600/600 [==============================] - 7s 12ms/step - loss: 0.0876 - accuracy: 0.9735\n",
      "Epoch 9/30\n",
      "600/600 [==============================] - 7s 12ms/step - loss: 0.0800 - accuracy: 0.9756\n",
      "Epoch 10/30\n",
      "600/600 [==============================] - 7s 12ms/step - loss: 0.0737 - accuracy: 0.9774\n",
      "Epoch 11/30\n",
      "600/600 [==============================] - 7s 11ms/step - loss: 0.0693 - accuracy: 0.9787\n",
      "Epoch 12/30\n",
      "600/600 [==============================] - 7s 12ms/step - loss: 0.0651 - accuracy: 0.9796\n",
      "Epoch 13/30\n",
      "600/600 [==============================] - 7s 11ms/step - loss: 0.0604 - accuracy: 0.9810\n"
     ]
    },
    {
     "data": {
      "text/plain": "<keras.src.callbacks.History at 0x26ec85ad090>"
     },
     "execution_count": 9,
     "metadata": {},
     "output_type": "execute_result"
    }
   ],
   "source": [
    "#LeNet-5\n",
    "model = tf.keras.models.Sequential([\n",
    "    tf.keras.layers.Conv2D(6, (5,5), activation='relu', input_shape=(28,28,1)),\n",
    "    tf.keras.layers.MaxPooling2D(2,2),\n",
    "    tf.keras.layers.Conv2D(16, (5,5), activation='relu'),\n",
    "    tf.keras.layers.MaxPooling2D(2,2),\n",
    "    tf.keras.layers.Flatten(),\n",
    "    tf.keras.layers.Dense(120, activation='relu'),\n",
    "    tf.keras.layers.Dense(84, activation='relu'),\n",
    "    tf.keras.layers.Dense(10, activation='softmax')\n",
    "])\n",
    "\n",
    "model.compile( optimizer=tf.keras.optimizers.Adam(learning_rate=0.0001), loss = \"categorical_crossentropy\", metrics=['accuracy'])\n",
    "\n",
    "es = EarlyStopping(\n",
    "                    monitor='loss',\n",
    "                    patience=2,\n",
    "                    min_delta=0.01\n",
    "                   )\n",
    "\n",
    "model.fit(x_train,y_train, epochs = 30, steps_per_epoch = 600,  verbose = 1, validation_steps = 3, callbacks = [es])"
   ],
   "metadata": {
    "collapsed": false,
    "ExecuteTime": {
     "end_time": "2023-11-27T17:10:05.549162200Z",
     "start_time": "2023-11-27T17:08:31.261021900Z"
    }
   }
  },
  {
   "cell_type": "code",
   "execution_count": 10,
   "outputs": [
    {
     "name": "stdout",
     "output_type": "stream",
     "text": [
      "313/313 [==============================] - 1s 3ms/step - loss: 0.0545 - accuracy: 0.9832\n"
     ]
    },
    {
     "data": {
      "text/plain": "[0.05453762039542198, 0.9832000136375427]"
     },
     "execution_count": 10,
     "metadata": {},
     "output_type": "execute_result"
    }
   ],
   "source": [
    "model.evaluate(x_test, y_test)"
   ],
   "metadata": {
    "collapsed": false,
    "ExecuteTime": {
     "end_time": "2023-11-27T17:11:47.191509300Z",
     "start_time": "2023-11-27T17:11:45.954725800Z"
    }
   }
  },
  {
   "cell_type": "code",
   "execution_count": 30,
   "outputs": [
    {
     "name": "stdout",
     "output_type": "stream",
     "text": [
      "Epoch 1/30\n",
      "600/600 [==============================] - 108s 178ms/step - loss: 0.3270 - accuracy: 0.9070\n",
      "Epoch 2/30\n",
      "600/600 [==============================] - 114s 190ms/step - loss: 0.0751 - accuracy: 0.9768\n",
      "Epoch 3/30\n",
      "600/600 [==============================] - 115s 192ms/step - loss: 0.0522 - accuracy: 0.9838\n",
      "Epoch 4/30\n",
      "600/600 [==============================] - 117s 195ms/step - loss: 0.0401 - accuracy: 0.9874\n",
      "Epoch 5/30\n",
      "600/600 [==============================] - 99s 165ms/step - loss: 0.0326 - accuracy: 0.9898\n",
      "Epoch 6/30\n",
      "600/600 [==============================] - 101s 168ms/step - loss: 0.0270 - accuracy: 0.9916\n",
      "Epoch 7/30\n",
      "600/600 [==============================] - 103s 171ms/step - loss: 0.0221 - accuracy: 0.9929\n",
      "Epoch 8/30\n",
      "600/600 [==============================] - 103s 172ms/step - loss: 0.0180 - accuracy: 0.9944\n"
     ]
    },
    {
     "data": {
      "text/plain": "<keras.src.callbacks.History at 0x13aeb4b0990>"
     },
     "execution_count": 30,
     "metadata": {},
     "output_type": "execute_result"
    }
   ],
   "source": [
    "#VGG\n",
    "model = tf.keras.models.Sequential([\n",
    "    tf.keras.layers.Conv2D(64, (3,3), activation='relu', input_shape=(28,28,1)),\n",
    "    tf.keras.layers.Conv2D(64, (3,3), activation='relu'),\n",
    "    tf.keras.layers.MaxPooling2D(2,2),\n",
    "    tf.keras.layers.Conv2D(128, (3,3), activation='relu'),\n",
    "    tf.keras.layers.Conv2D(128, (3,3), activation='relu'),\n",
    "    tf.keras.layers.MaxPooling2D(2,2),\n",
    "    tf.keras.layers.Flatten(),\n",
    "    tf.keras.layers.Dense(256, activation='relu'),\n",
    "    tf.keras.layers.Dense(10, activation='softmax')\n",
    "])\n",
    "\n",
    "model.compile( optimizer=tf.keras.optimizers.Adam(learning_rate=0.0001), loss = \"categorical_crossentropy\", metrics=['accuracy'])\n",
    "\n",
    "es = EarlyStopping(\n",
    "                    monitor='loss',\n",
    "                    patience=2,\n",
    "                    min_delta=0.01\n",
    "                   )\n",
    "\n",
    "model.fit(x_train,y_train, epochs = 30, steps_per_epoch = 600,  verbose = 1, validation_steps = 3, callbacks = [es])"
   ],
   "metadata": {
    "collapsed": false,
    "ExecuteTime": {
     "end_time": "2023-11-26T22:01:28.496474900Z",
     "start_time": "2023-11-26T21:47:09.032784400Z"
    }
   }
  },
  {
   "cell_type": "code",
   "execution_count": 31,
   "outputs": [
    {
     "name": "stdout",
     "output_type": "stream",
     "text": [
      "313/313 [==============================] - 4s 14ms/step - loss: 0.0306 - accuracy: 0.9908\n"
     ]
    },
    {
     "data": {
      "text/plain": "[0.030604809522628784, 0.9908000230789185]"
     },
     "execution_count": 31,
     "metadata": {},
     "output_type": "execute_result"
    }
   ],
   "source": [
    "model.evaluate(x_test, y_test)"
   ],
   "metadata": {
    "collapsed": false,
    "ExecuteTime": {
     "end_time": "2023-11-26T22:02:51.450308800Z",
     "start_time": "2023-11-26T22:02:46.945071900Z"
    }
   }
  },
  {
   "cell_type": "code",
   "execution_count": null,
   "outputs": [],
   "source": [],
   "metadata": {
    "collapsed": false
   }
  }
 ],
 "metadata": {
  "kernelspec": {
   "display_name": "Python 3",
   "language": "python",
   "name": "python3"
  },
  "language_info": {
   "codemirror_mode": {
    "name": "ipython",
    "version": 2
   },
   "file_extension": ".py",
   "mimetype": "text/x-python",
   "name": "python",
   "nbconvert_exporter": "python",
   "pygments_lexer": "ipython2",
   "version": "2.7.6"
  }
 },
 "nbformat": 4,
 "nbformat_minor": 0
}
